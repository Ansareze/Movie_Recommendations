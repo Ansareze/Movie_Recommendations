{
 "cells": [
  {
   "cell_type": "markdown",
   "id": "c86c71af",
   "metadata": {},
   "source": [
    "# Importing Libraries"
   ]
  },
  {
   "cell_type": "code",
   "execution_count": null,
   "id": "c2607e4c",
   "metadata": {},
   "outputs": [],
   "source": [
    "import numpy as np\n",
    "import pandas as pd\n",
    "import matplotlib.pyplot as plt\n",
    "from sklearn.feature_extraction.text import TfidfVectorizer\n",
    "from sklearn.metrics.pairwise import cosine_similarity\n",
    "from wordcloud import WordCloud\n",
    "import re\n",
    "import nltk\n",
    "from nltk.corpus import stopwords\n",
    "from nltk.tokenize import word_tokenize"
   ]
  },
  {
   "cell_type": "markdown",
   "id": "82bc32ca",
   "metadata": {},
   "source": [
    "# Data Loading and Understanding"
   ]
  },
  {
   "cell_type": "code",
   "execution_count": null,
   "id": "63bc9a2b",
   "metadata": {},
   "outputs": [],
   "source": [
    "df = pd.read_csv('movies.csv')"
   ]
  },
  {
   "cell_type": "code",
   "execution_count": null,
   "id": "9a046f6c",
   "metadata": {},
   "outputs": [],
   "source": [
    "df.shape"
   ]
  },
  {
   "cell_type": "code",
   "execution_count": null,
   "id": "62fc5ca0",
   "metadata": {},
   "outputs": [],
   "source": [
    "df.head()"
   ]
  },
  {
   "cell_type": "code",
   "execution_count": null,
   "id": "a8e03159",
   "metadata": {},
   "outputs": [],
   "source": [
    "df.info()"
   ]
  },
  {
   "cell_type": "code",
   "execution_count": null,
   "id": "fda3f2a0",
   "metadata": {},
   "outputs": [],
   "source": [
    "# filtering the required columns for recommentdations\n",
    "required_columns = [\"genres\",\"keywords\",\"overview\",\"title\"]\n",
    "\n",
    "df = df[required_columns]"
   ]
  },
  {
   "cell_type": "code",
   "execution_count": null,
   "id": "e175a33d",
   "metadata": {},
   "outputs": [],
   "source": [
    "df.shape"
   ]
  },
  {
   "cell_type": "code",
   "execution_count": null,
   "id": "f73fb802",
   "metadata": {},
   "outputs": [],
   "source": [
    "df.head()"
   ]
  },
  {
   "cell_type": "code",
   "execution_count": null,
   "id": "4a7b3dbf",
   "metadata": {},
   "outputs": [],
   "source": [
    "# check for missing values\n",
    "df.info()"
   ]
  },
  {
   "cell_type": "code",
   "execution_count": null,
   "id": "36295057",
   "metadata": {},
   "outputs": [],
   "source": [
    "# dropping rows with missing values\n",
    "df = df.dropna().reset_index(drop=True)"
   ]
  },
  {
   "cell_type": "code",
   "execution_count": null,
   "id": "5b0e3862",
   "metadata": {},
   "outputs": [],
   "source": [
    "df.info()"
   ]
  },
  {
   "cell_type": "code",
   "execution_count": null,
   "id": "34c616fe",
   "metadata": {},
   "outputs": [],
   "source": [
    "df['combined'] = df['genres'] + ' ' + df['keywords'] + ' ' + df['overview']\n",
    "# we will use the combined text in the recommender system"
   ]
  },
  {
   "cell_type": "code",
   "execution_count": null,
   "id": "65540135",
   "metadata": {},
   "outputs": [],
   "source": [
    "df.head()"
   ]
  },
  {
   "cell_type": "code",
   "execution_count": null,
   "id": "21c96370",
   "metadata": {},
   "outputs": [],
   "source": [
    "df.tail()"
   ]
  },
  {
   "cell_type": "code",
   "execution_count": null,
   "id": "0e13e0ef",
   "metadata": {},
   "outputs": [],
   "source": [
    "data = df[['title', 'combined']]"
   ]
  },
  {
   "cell_type": "code",
   "execution_count": null,
   "id": "a7abac10",
   "metadata": {},
   "outputs": [],
   "source": [
    "data.head()"
   ]
  },
  {
   "cell_type": "code",
   "execution_count": null,
   "id": "17c15b5a",
   "metadata": {},
   "outputs": [],
   "source": [
    "data.shape"
   ]
  },
  {
   "cell_type": "code",
   "execution_count": null,
   "id": "08761ca8",
   "metadata": {},
   "outputs": [],
   "source": [
    "# wordcloud from movie content\n",
    "combined_text = ' '.join(df['combined'])\n",
    "wordcloud = WordCloud(width=800, height = 400, background_color='white').generate(combined_text)"
   ]
  },
  {
   "cell_type": "code",
   "execution_count": null,
   "id": "f152c4a7",
   "metadata": {},
   "outputs": [],
   "source": [
    "# word cloud to visualize the most cmmon words in the movie content\n",
    "plt.figure(figsize=(10, 5))\n",
    "plt.imshow(wordcloud, interpolation='bilinear')\n",
    "plt.axis('off')\n",
    "plt.title('Most common words in movie content')\n",
    "plt.show()"
   ]
  },
  {
   "cell_type": "code",
   "execution_count": null,
   "id": "15c2175c",
   "metadata": {},
   "outputs": [],
   "source": [
    "# downlnoad nltk data\n",
    "nltk.download('punkt')\n",
    "nltk.download('stopwords')\n",
    "nltk.download('punkt_tab')\n"
   ]
  },
  {
   "cell_type": "code",
   "execution_count": null,
   "id": "d8e05ac5",
   "metadata": {},
   "outputs": [],
   "source": [
    "stop_words = set(stopwords.words('english'))\n"
   ]
  },
  {
   "cell_type": "code",
   "execution_count": null,
   "id": "f47c6f3c",
   "metadata": {},
   "outputs": [],
   "source": [
    "def process_text(text):\n",
    "    # remove special characters and numbers\n",
    "    text = re.sub(r'[^a-zA-Z\\s]', '', text)\n",
    "    # convert to lowercase\n",
    "    text = text.lower()\n",
    "    # tokenize the text\n",
    "    tokens = word_tokenize(text)\n",
    "    # remove stop words\n",
    "    tokens = [word for word in tokens if word not in stop_words]\n",
    "    return ' '.join(tokens)"
   ]
  },
  {
   "cell_type": "code",
   "execution_count": null,
   "id": "f89ddfdf",
   "metadata": {},
   "outputs": [],
   "source": [
    "# applying the text processing function to the combined column\n",
    "data['cleaned_text'] = data['combined'].apply(process_text)"
   ]
  },
  {
   "cell_type": "code",
   "execution_count": null,
   "id": "099aa7f1",
   "metadata": {},
   "outputs": [],
   "source": [
    "data.head()"
   ]
  },
  {
   "cell_type": "code",
   "execution_count": null,
   "id": "3ae78ea3",
   "metadata": {},
   "outputs": [],
   "source": [
    "# vectorizing with TF-IDF\n",
    "tfidf_vectorizer = TfidfVectorizer(max_features=5000)\n",
    "tfidf_matrix = tfidf_vectorizer.fit_transform(data['cleaned_text'])"
   ]
  },
  {
   "cell_type": "code",
   "execution_count": null,
   "id": "0f995f17",
   "metadata": {},
   "outputs": [],
   "source": [
    "# compute cosine similarity\n",
    "cosine_sim = cosine_similarity(tfidf_matrix, tfidf_matrix)"
   ]
  },
  {
   "cell_type": "code",
   "execution_count": null,
   "id": "e7648eba",
   "metadata": {},
   "outputs": [],
   "source": [
    "# recommendation function\n",
    "def recommend_movies(movie_name, cosine_sim=cosine_sim,df = data, top_n=10):\n",
    "    # finding the index of the movie that matches the title\n",
    "    idx = df[df['title'].str.lower() == movie_name.lower()].index\n",
    "    if len(idx) == 0:\n",
    "        return \"Movie Not Found\"\n",
    "    idx = idx[0]\n",
    "    \n",
    "# get similarity scores for all movies with the given movie\n",
    "    sim_scores = list(enumerate(cosine_sim[idx]))\n",
    "    # sort the movies based on similarity scores\n",
    "    sim_scores = sorted(sim_scores, key=lambda x: x[1], reverse=True)\n",
    "    # get the scores of the top n most similar movies\n",
    "    sim_scores = sim_scores[1:top_n+1]\n",
    "    \n",
    "# get the movie indices\n",
    "    movie_indices = [i[0] for i in sim_scores]\n",
    "    \n",
    "# return the top n most similar movies\n",
    "    return df['title'].iloc[movie_indices]"
   ]
  },
  {
   "cell_type": "code",
   "execution_count": null,
   "id": "82b03b86",
   "metadata": {},
   "outputs": [],
   "source": [
    "data[\"title\"]"
   ]
  },
  {
   "cell_type": "code",
   "execution_count": null,
   "id": "85b9a543",
   "metadata": {},
   "outputs": [],
   "source": [
    "row_index = data[data['title'] == 'The Dark Knight Rises'].index\n",
    "print(row_index)"
   ]
  },
  {
   "cell_type": "code",
   "execution_count": null,
   "id": "69fc6aa0",
   "metadata": {},
   "outputs": [],
   "source": [
    "movie_name = data['title'][9]\n",
    "print(movie_name)"
   ]
  },
  {
   "cell_type": "code",
   "execution_count": null,
   "id": "03b2b93a",
   "metadata": {},
   "outputs": [],
   "source": [
    "# Example usage of the recommendation function\n",
    "print(f\"Movies recommended for '{movie_name}':\")\n",
    "recommended_movies = recommend_movies(movie_name)\n",
    "print(recommended_movies)"
   ]
  },
  {
   "cell_type": "code",
   "execution_count": null,
   "id": "0746746c",
   "metadata": {},
   "outputs": [],
   "source": []
  },
  {
   "cell_type": "code",
   "execution_count": null,
   "id": "4717487b",
   "metadata": {},
   "outputs": [],
   "source": []
  },
  {
   "cell_type": "code",
   "execution_count": null,
   "id": "52dfe9d8",
   "metadata": {},
   "outputs": [],
   "source": []
  },
  {
   "cell_type": "code",
   "execution_count": null,
   "id": "b9f16efd",
   "metadata": {},
   "outputs": [],
   "source": []
  },
  {
   "cell_type": "code",
   "execution_count": null,
   "id": "215e7b70",
   "metadata": {},
   "outputs": [],
   "source": []
  },
  {
   "cell_type": "code",
   "execution_count": null,
   "id": "b41c5743",
   "metadata": {},
   "outputs": [],
   "source": []
  },
  {
   "cell_type": "code",
   "execution_count": null,
   "id": "c5eec9ae",
   "metadata": {},
   "outputs": [],
   "source": []
  },
  {
   "cell_type": "code",
   "execution_count": null,
   "id": "c66beeee",
   "metadata": {},
   "outputs": [],
   "source": []
  },
  {
   "cell_type": "code",
   "execution_count": null,
   "id": "f1cca51e",
   "metadata": {},
   "outputs": [],
   "source": []
  },
  {
   "cell_type": "code",
   "execution_count": null,
   "id": "d532c8ff",
   "metadata": {},
   "outputs": [],
   "source": []
  },
  {
   "cell_type": "code",
   "execution_count": null,
   "id": "7ea4a878",
   "metadata": {},
   "outputs": [],
   "source": []
  },
  {
   "cell_type": "code",
   "execution_count": null,
   "id": "9b8c8665",
   "metadata": {},
   "outputs": [],
   "source": []
  },
  {
   "cell_type": "code",
   "execution_count": null,
   "id": "feaf5233",
   "metadata": {},
   "outputs": [],
   "source": []
  },
  {
   "cell_type": "code",
   "execution_count": null,
   "id": "48cbbb3c",
   "metadata": {},
   "outputs": [],
   "source": []
  },
  {
   "cell_type": "code",
   "execution_count": null,
   "id": "da8e6e0d",
   "metadata": {},
   "outputs": [],
   "source": []
  },
  {
   "cell_type": "code",
   "execution_count": null,
   "id": "c561192c",
   "metadata": {},
   "outputs": [],
   "source": []
  }
 ],
 "metadata": {
  "kernelspec": {
   "display_name": "base",
   "language": "python",
   "name": "python3"
  },
  "language_info": {
   "codemirror_mode": {
    "name": "ipython",
    "version": 3
   },
   "file_extension": ".py",
   "mimetype": "text/x-python",
   "name": "python",
   "nbconvert_exporter": "python",
   "pygments_lexer": "ipython3",
   "version": "3.12.7"
  }
 },
 "nbformat": 4,
 "nbformat_minor": 5
}
